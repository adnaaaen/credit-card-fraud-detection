{
 "cells": [
  {
   "cell_type": "code",
   "execution_count": null,
   "id": "1930c088-3409-4401-8b18-971a131b2839",
   "metadata": {},
   "outputs": [],
   "source": [
    "import os\n",
    "from sklearn.model_selection import train_test_split\n",
    "from sklearn.metrics import confusion_matrix, classification_report\n",
    "\n",
    "os.chdir(\"../\")\n",
    "\n",
    "from src import main\n",
    "from config import ProjectPaths\n",
    "from src.utils import load_dataset, load_joblib"
   ]
  },
  {
   "cell_type": "code",
   "execution_count": null,
   "id": "2058ec97-40ff-459f-bd9f-65a63ee446fa",
   "metadata": {},
   "outputs": [],
   "source": [
    "df = load_dataset(\"cleaned/cleaned.csv\")"
   ]
  },
  {
   "cell_type": "code",
   "execution_count": 3,
   "id": "dfef9b31-51da-4dcf-828c-8d8a6129e4c8",
   "metadata": {},
   "outputs": [],
   "source": [
    "X = df.drop(columns=[\"churn\"])\n",
    "Y = df[\"churn\"]"
   ]
  },
  {
   "cell_type": "code",
   "execution_count": 4,
   "id": "10553a38-e2e0-47d7-b8cb-1b78438f3112",
   "metadata": {},
   "outputs": [],
   "source": [
    "x_train, x_test, y_train, y_test = train_test_split(X, Y, random_state=9374, shuffle=True, test_size=.2)"
   ]
  },
  {
   "cell_type": "code",
   "execution_count": null,
   "id": "2ea9b625-436d-48c2-965c-c20965d04d0e",
   "metadata": {},
   "outputs": [],
   "source": [
    "model = load_joblib(\"MODEL_PATH\", \"random_forest_model.joblib\")"
   ]
  },
  {
   "cell_type": "code",
   "execution_count": 6,
   "id": "7ced72b5-3a7f-4a28-873d-0c8cc1a881fc",
   "metadata": {},
   "outputs": [],
   "source": [
    "y_pred = model.predict(x_test)"
   ]
  },
  {
   "cell_type": "code",
   "execution_count": 7,
   "id": "f82a222a-2586-4f66-a065-b863b451bb4e",
   "metadata": {},
   "outputs": [
    {
     "name": "stdout",
     "output_type": "stream",
     "text": [
      "              precision    recall  f1-score   support\n",
      "\n",
      "           0       1.00      0.86      0.92     44900\n",
      "           1       0.90      1.00      0.94     56142\n",
      "\n",
      "    accuracy                           0.93    101042\n",
      "   macro avg       0.95      0.93      0.93    101042\n",
      "weighted avg       0.94      0.93      0.93    101042\n",
      "\n"
     ]
    }
   ],
   "source": [
    "print(classification_report(y_test, y_pred))"
   ]
  },
  {
   "cell_type": "code",
   "execution_count": 8,
   "id": "7af14ce4-a289-4a7a-b4e2-5e9f1063b1fd",
   "metadata": {},
   "outputs": [
    {
     "data": {
      "text/plain": [
       "array([[38459,  6441],\n",
       "       [  151, 55991]])"
      ]
     },
     "execution_count": 8,
     "metadata": {},
     "output_type": "execute_result"
    }
   ],
   "source": [
    "confusion_matrix(y_test, y_pred)"
   ]
  }
 ],
 "metadata": {
  "kernelspec": {
   "display_name": "Python 3 (ipykernel)",
   "language": "python",
   "name": "python3"
  },
  "language_info": {
   "codemirror_mode": {
    "name": "ipython",
    "version": 3
   },
   "file_extension": ".py",
   "mimetype": "text/x-python",
   "name": "python",
   "nbconvert_exporter": "python",
   "pygments_lexer": "ipython3",
   "version": "3.12.8"
  }
 },
 "nbformat": 4,
 "nbformat_minor": 5
}
